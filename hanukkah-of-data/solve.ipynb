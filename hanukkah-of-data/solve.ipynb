{
 "cells": [
  {
   "cell_type": "markdown",
   "id": "193257c5-8edf-49c3-aaf7-99139e483ced",
   "metadata": {},
   "source": [
    "# [Hanukkah of Data](https://hanukkah.bluebird.sh/5784)\n",
    "\n",
    "0. 5777\n",
    "1. 826-636-2286\n",
    "2. ..."
   ]
  },
  {
   "cell_type": "code",
   "execution_count": 1,
   "id": "ec5a9f62-486d-42ea-8926-13267f580d9e",
   "metadata": {},
   "outputs": [],
   "source": [
    "import pandas as pd"
   ]
  },
  {
   "cell_type": "code",
   "execution_count": 2,
   "id": "f877449d-b8c9-498b-b5b9-0f55665686cf",
   "metadata": {},
   "outputs": [],
   "source": [
    "df = pd.read_csv('./noahs-customers.csv')"
   ]
  },
  {
   "cell_type": "code",
   "execution_count": 3,
   "id": "7f70194d-80e2-467f-b46f-90c8e656ebe2",
   "metadata": {},
   "outputs": [
    {
     "data": {
      "text/plain": [
       "name\n",
       "Aaron Anderson     [716-578-5297]\n",
       "Aaron Baldwin      [516-265-1912]\n",
       "Aaron Bray         [680-892-6493]\n",
       "Aaron Bullock      [716-891-3300]\n",
       "Aaron Clarke       [516-422-3161]\n",
       "                        ...      \n",
       "Zachary Walsh      [516-460-9740]\n",
       "Zachary Wright     [631-833-8752]\n",
       "Zoe Aguilar        [914-516-4084]\n",
       "Zoe April Price    [838-952-8128]\n",
       "Zoe Bowers         [858-994-4430]\n",
       "Name: phone, Length: 7795, dtype: object"
      ]
     },
     "execution_count": 3,
     "metadata": {},
     "output_type": "execute_result"
    }
   ],
   "source": [
    "df.groupby('name')['phone'].agg(list)"
   ]
  },
  {
   "cell_type": "code",
   "execution_count": 13,
   "id": "e768434a-f83d-4b9f-9688-158700e0bb4f",
   "metadata": {},
   "outputs": [],
   "source": [
    "def solve_01(df_):\n",
    "    df = df_.copy()\n",
    "    df['last_name'] = df['name'].apply(lambda x: x.split()[1])\n",
    "    mask = df['last_name'].apply(len) == df['phone'].apply(lambda x: len(x.replace('-', '')))\n",
    "\n",
    "    m = [\"abc\", \"def\", \"ghi\", \"jkl\", \"mno\", \"pqrs\", \"tuv\", \"wxyz\"]\n",
    "    for name, phones in df.loc[mask].groupby('last_name')['phone'].agg(lambda xs: sorted(set(xs))).to_dict().items():\n",
    "        name = name.lower()\n",
    "        for p in phones:\n",
    "            ok = True\n",
    "            for i, j in zip(name, map(int, p.replace('-', ''))):\n",
    "                if j == 1 or i not in m[j - 2]:\n",
    "                    ok = False\n",
    "                    break\n",
    "            if not ok:\n",
    "                continue\n",
    "            else:\n",
    "                return name, p"
   ]
  },
  {
   "cell_type": "code",
   "execution_count": 14,
   "id": "3ef40a90-b0ad-4a2a-a0aa-afd68d84149b",
   "metadata": {},
   "outputs": [
    {
     "data": {
      "text/plain": [
       "('tannenbaum', '826-636-2286')"
      ]
     },
     "execution_count": 14,
     "metadata": {},
     "output_type": "execute_result"
    }
   ],
   "source": [
    "solve_01(df)"
   ]
  },
  {
   "cell_type": "code",
   "execution_count": null,
   "id": "30760a0d-ee04-4603-9b61-5fc835d8267a",
   "metadata": {},
   "outputs": [],
   "source": []
  }
 ],
 "metadata": {
  "kernelspec": {
   "display_name": "Python 3 (ipykernel)",
   "language": "python",
   "name": "python3"
  },
  "language_info": {
   "codemirror_mode": {
    "name": "ipython",
    "version": 3
   },
   "file_extension": ".py",
   "mimetype": "text/x-python",
   "name": "python",
   "nbconvert_exporter": "python",
   "pygments_lexer": "ipython3",
   "version": "3.12.8"
  }
 },
 "nbformat": 4,
 "nbformat_minor": 5
}
