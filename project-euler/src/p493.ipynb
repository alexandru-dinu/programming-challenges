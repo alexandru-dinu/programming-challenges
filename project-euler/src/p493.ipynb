{
 "cells": [
  {
   "cell_type": "markdown",
   "id": "c43723e5-0fe9-4fdf-9f65-49003157ba53",
   "metadata": {},
   "source": [
    "70 coloured balls are placed in an urn, 10 for each of the seven rainbow colours.\n",
    "\n",
    "What is the expected number of distinct colours in 20 randomly picked balls?"
   ]
  },
  {
   "cell_type": "code",
   "execution_count": null,
   "id": "ed9e7b6f-fc64-47f1-91e4-4202d3374a7a",
   "metadata": {},
   "outputs": [],
   "source": [
    "import numpy as np\n",
    "from collections import Counter\n",
    "from tqdm import trange\n",
    "\n",
    "import matplotlib.pyplot as plt\n",
    "import seaborn as sns\n",
    "\n",
    "%matplotlib inline\n",
    "%config InlineBackend.figure_format = 'retina'\n",
    "sns.set()"
   ]
  },
  {
   "cell_type": "code",
   "execution_count": null,
   "id": "d9d22e48-ac20-4a3d-9950-c853c9d8b355",
   "metadata": {},
   "outputs": [],
   "source": [
    "balls = []\n",
    "for c in range(7):\n",
    "    balls.extend([c] * 10)\n",
    "balls = np.array(balls)\n",
    "    \n",
    "cnt = Counter()\n",
    "N = 1_000_000\n",
    "\n",
    "for _ in trange(N):\n",
    "    idx = np.random.permutation(len(balls))\n",
    "    u = len(np.unique(balls[idx[:20]]))\n",
    "    cnt[u] += 1 / N"
   ]
  },
  {
   "cell_type": "code",
   "execution_count": null,
   "id": "15b09dc6-f91f-42b2-93b6-95015d3f3e59",
   "metadata": {},
   "outputs": [],
   "source": [
    "plt.stem(*zip(*cnt.items()), linefmt='C0--')"
   ]
  },
  {
   "cell_type": "code",
   "execution_count": null,
   "id": "77f66d2d-6b2b-4028-a761-0d9d5f6016c0",
   "metadata": {},
   "outputs": [],
   "source": [
    "x, f = map(np.array, zip(*cnt.items()))\n",
    "np.dot(x, f)"
   ]
  },
  {
   "cell_type": "code",
   "execution_count": null,
   "id": "e365b3de-3ae7-4a9c-9968-a19f1afca504",
   "metadata": {},
   "outputs": [],
   "source": []
  },
  {
   "cell_type": "code",
   "execution_count": null,
   "id": "2610b222-a8d8-4949-9331-3d8330a96d64",
   "metadata": {},
   "outputs": [],
   "source": []
  }
 ],
 "metadata": {
  "kernelspec": {
   "display_name": "Python 3 (ipykernel)",
   "language": "python",
   "name": "python3"
  },
  "language_info": {
   "codemirror_mode": {
    "name": "ipython",
    "version": 3
   },
   "file_extension": ".py",
   "mimetype": "text/x-python",
   "name": "python",
   "nbconvert_exporter": "python",
   "pygments_lexer": "ipython3",
   "version": "3.8.12"
  }
 },
 "nbformat": 4,
 "nbformat_minor": 5
}
